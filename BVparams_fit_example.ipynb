{
 "cells": [
  {
   "cell_type": "markdown",
   "metadata": {},
   "source": [
    "author: Chunhui Li \n",
    "\n",
    "email: lchwestlife@gmail.com \n",
    "\n",
    "An walkthrougth exmaple jupyter notebook "
   ]
  },
  {
   "cell_type": "code",
   "execution_count": 2,
   "metadata": {
    "tags": []
   },
   "outputs": [],
   "source": [
    "from bond_valence_processor import BondValenceProcessor"
   ]
  },
  {
   "cell_type": "code",
   "execution_count": null,
   "metadata": {},
   "outputs": [],
   "source": [
    "cations = ['Li'] # a list of cation species \n",
    "my_api_key = \"your_api_key\"\n",
    "algos = ['shgo', 'brute', 'diff', 'dual_annealing', 'direct']\n",
    "processor = BondValenceProcessor(my_api_key, algos, cations)\n",
    "    \n",
    "for cation in cations:\n",
    "    processor.process_cation_system(cation)\n"
   ]
  },
  {
   "cell_type": "code",
   "execution_count": null,
   "metadata": {},
   "outputs": [],
   "source": []
  }
 ],
 "metadata": {
  "kernelspec": {
   "display_name": "mp",
   "language": "python",
   "name": "python3"
  },
  "language_info": {
   "codemirror_mode": {
    "name": "ipython",
    "version": 3
   },
   "file_extension": ".py",
   "mimetype": "text/x-python",
   "name": "python",
   "nbconvert_exporter": "python",
   "pygments_lexer": "ipython3",
   "version": "3.12.9"
  }
 },
 "nbformat": 4,
 "nbformat_minor": 4
}
